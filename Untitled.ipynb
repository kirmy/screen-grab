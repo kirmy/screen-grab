{
 "cells": [
  {
   "cell_type": "code",
   "execution_count": 15,
   "metadata": {},
   "outputs": [],
   "source": [
    "from PIL import ImageGrab"
   ]
  },
  {
   "cell_type": "code",
   "execution_count": 16,
   "metadata": {},
   "outputs": [],
   "source": [
    " img = ImageGrab.grab()"
   ]
  },
  {
   "cell_type": "code",
   "execution_count": 5,
   "metadata": {},
   "outputs": [],
   "source": [
    "img.save(\"screen.bmp\", \"BMP\")"
   ]
  },
  {
   "cell_type": "code",
   "execution_count": 2,
   "metadata": {},
   "outputs": [
    {
     "name": "stdout",
     "output_type": "stream",
     "text": [
      "Collecting dropbox\n",
      "  Downloading dropbox-11.7.0-py3-none-any.whl (563 kB)\n",
      "Requirement already satisfied: six>=1.12.0 in c:\\users\\usertzmk\\anaconda3\\lib\\site-packages (from dropbox) (1.15.0)\n",
      "Requirement already satisfied: requests>=2.16.2 in c:\\users\\usertzmk\\anaconda3\\lib\\site-packages (from dropbox) (2.24.0)\n",
      "Collecting stone>=2.*\n",
      "  Downloading stone-3.2.1-py3-none-any.whl (160 kB)\n",
      "Requirement already satisfied: certifi>=2017.4.17 in c:\\users\\usertzmk\\anaconda3\\lib\\site-packages (from requests>=2.16.2->dropbox) (2020.6.20)\n",
      "Requirement already satisfied: idna<3,>=2.5 in c:\\users\\usertzmk\\anaconda3\\lib\\site-packages (from requests>=2.16.2->dropbox) (2.10)\n",
      "Requirement already satisfied: chardet<4,>=3.0.2 in c:\\users\\usertzmk\\anaconda3\\lib\\site-packages (from requests>=2.16.2->dropbox) (3.0.4)\n",
      "Requirement already satisfied: urllib3!=1.25.0,!=1.25.1,<1.26,>=1.21.1 in c:\\users\\usertzmk\\anaconda3\\lib\\site-packages (from requests>=2.16.2->dropbox) (1.25.11)\n",
      "Requirement already satisfied: ply>=3.4 in c:\\users\\usertzmk\\anaconda3\\lib\\site-packages (from stone>=2.*->dropbox) (3.11)\n",
      "Installing collected packages: stone, dropbox\n",
      "Successfully installed dropbox-11.7.0 stone-3.2.1\n",
      "Note: you may need to restart the kernel to use updated packages.\n"
     ]
    }
   ],
   "source": [
    "pip install dropbox"
   ]
  },
  {
   "cell_type": "code",
   "execution_count": 3,
   "metadata": {},
   "outputs": [],
   "source": [
    "import dropbox"
   ]
  },
  {
   "cell_type": "code",
   "execution_count": 26,
   "metadata": {},
   "outputs": [],
   "source": [
    "ACCESS_TOKEN = 'xyjByVAd_aMAAAAAAAAAAcU1mKvD1T_Y4iUFhGABCaJkqZdV9o_sQPhgZIIDdRLC'"
   ]
  },
  {
   "cell_type": "code",
   "execution_count": 27,
   "metadata": {},
   "outputs": [],
   "source": [
    "dbx = dropbox.Dropbox(ACCESS_TOKEN)"
   ]
  },
  {
   "cell_type": "code",
   "execution_count": 28,
   "metadata": {},
   "outputs": [
    {
     "data": {
      "text/plain": [
       "FullAccount(account_id='dbid:AAD7qwUGFyEIdpBIMrjlwGXmaPe7b7xeYLs', account_type=AccountType('basic', None), country='UA', disabled=False, email='kmys@i.ua', email_verified=True, is_paired=False, locale='ru', name=Name(abbreviated_name='КМ', display_name='Кирилл Мыскин', familiar_name='Кирилл', given_name='Кирилл', surname='Мыскин'), profile_photo_url=NOT_SET, referral_link='https://www.dropbox.com/referrals/AABNPvUkl8hU_N-qAw-bLZbZKCJRHsSFA3U?src=app9-1643153', root_info=UserRootInfo(home_namespace_id='3789225456', root_namespace_id='3789225456'), team=NOT_SET, team_member_id=NOT_SET)"
      ]
     },
     "execution_count": 28,
     "metadata": {},
     "output_type": "execute_result"
    }
   ],
   "source": [
    "dbx.users_get_current_account()"
   ]
  },
  {
   "cell_type": "code",
   "execution_count": 14,
   "metadata": {},
   "outputs": [],
   "source": [
    "for entry in dbx.files_list_folder('').entries:\n",
    "    print(entry.name)\n"
   ]
  },
  {
   "cell_type": "code",
   "execution_count": 43,
   "metadata": {},
   "outputs": [
    {
     "ename": "TypeError",
     "evalue": "expected request_binary as binary type, got <class 'str'>",
     "output_type": "error",
     "traceback": [
      "\u001b[1;31m---------------------------------------------------------------------------\u001b[0m",
      "\u001b[1;31mTypeError\u001b[0m                                 Traceback (most recent call last)",
      "\u001b[1;32m<ipython-input-43-3268c7cc7afd>\u001b[0m in \u001b[0;36m<module>\u001b[1;34m\u001b[0m\n\u001b[0;32m      1\u001b[0m \u001b[1;32mtry\u001b[0m\u001b[1;33m:\u001b[0m\u001b[1;33m\u001b[0m\u001b[1;33m\u001b[0m\u001b[0m\n\u001b[0;32m      2\u001b[0m             \u001b[1;31m#dbx.files_upload(f.read(), BACKUPPATH, mode=WriteMode('overwrite'))\u001b[0m\u001b[1;33m\u001b[0m\u001b[1;33m\u001b[0m\u001b[1;33m\u001b[0m\u001b[0m\n\u001b[1;32m----> 3\u001b[1;33m     \u001b[0mdbx\u001b[0m\u001b[1;33m.\u001b[0m\u001b[0mfiles_upload\u001b[0m\u001b[1;33m(\u001b[0m\u001b[1;34m\"Potential headline: Game 5 a nail-biter as Warriors inch out Cavs\"\u001b[0m\u001b[1;33m,\u001b[0m \u001b[1;34m'/test.txt'\u001b[0m\u001b[1;33m,\u001b[0m\u001b[0mmode\u001b[0m\u001b[1;33m=\u001b[0m\u001b[0mWriteMode\u001b[0m\u001b[1;33m(\u001b[0m\u001b[1;34m'overwrite'\u001b[0m\u001b[1;33m)\u001b[0m\u001b[1;33m)\u001b[0m\u001b[1;33m\u001b[0m\u001b[1;33m\u001b[0m\u001b[0m\n\u001b[0m\u001b[0;32m      4\u001b[0m \u001b[1;32mexcept\u001b[0m \u001b[0mApiError\u001b[0m \u001b[1;32mas\u001b[0m \u001b[0merr\u001b[0m\u001b[1;33m:\u001b[0m\u001b[1;33m\u001b[0m\u001b[1;33m\u001b[0m\u001b[0m\n\u001b[0;32m      5\u001b[0m             \u001b[1;31m# This checks for the specific error where a user doesn't have\u001b[0m\u001b[1;33m\u001b[0m\u001b[1;33m\u001b[0m\u001b[1;33m\u001b[0m\u001b[0m\n",
      "\u001b[1;32m~\\anaconda3\\lib\\site-packages\\dropbox\\base.py\u001b[0m in \u001b[0;36mfiles_upload\u001b[1;34m(self, f, path, mode, autorename, client_modified, mute, property_groups, strict_conflict)\u001b[0m\n\u001b[0;32m   2859\u001b[0m                                \u001b[0mproperty_groups\u001b[0m\u001b[1;33m,\u001b[0m\u001b[1;33m\u001b[0m\u001b[1;33m\u001b[0m\u001b[0m\n\u001b[0;32m   2860\u001b[0m                                strict_conflict)\n\u001b[1;32m-> 2861\u001b[1;33m         r = self.request(\n\u001b[0m\u001b[0;32m   2862\u001b[0m             \u001b[0mfiles\u001b[0m\u001b[1;33m.\u001b[0m\u001b[0mupload\u001b[0m\u001b[1;33m,\u001b[0m\u001b[1;33m\u001b[0m\u001b[1;33m\u001b[0m\u001b[0m\n\u001b[0;32m   2863\u001b[0m             \u001b[1;34m'files'\u001b[0m\u001b[1;33m,\u001b[0m\u001b[1;33m\u001b[0m\u001b[1;33m\u001b[0m\u001b[0m\n",
      "\u001b[1;32m~\\anaconda3\\lib\\site-packages\\dropbox\\dropbox_client.py\u001b[0m in \u001b[0;36mrequest\u001b[1;34m(self, route, namespace, request_arg, request_binary, timeout)\u001b[0m\n\u001b[0;32m    319\u001b[0m             \u001b[0mtimeout\u001b[0m \u001b[1;33m=\u001b[0m \u001b[0mrequest_arg\u001b[0m\u001b[1;33m.\u001b[0m\u001b[0mtimeout\u001b[0m \u001b[1;33m+\u001b[0m \u001b[1;36m90\u001b[0m\u001b[1;33m\u001b[0m\u001b[1;33m\u001b[0m\u001b[0m\n\u001b[0;32m    320\u001b[0m \u001b[1;33m\u001b[0m\u001b[0m\n\u001b[1;32m--> 321\u001b[1;33m         res = self.request_json_string_with_retry(host,\n\u001b[0m\u001b[0;32m    322\u001b[0m                                                   \u001b[0mroute_name\u001b[0m\u001b[1;33m,\u001b[0m\u001b[1;33m\u001b[0m\u001b[1;33m\u001b[0m\u001b[0m\n\u001b[0;32m    323\u001b[0m                                                   \u001b[0mroute_style\u001b[0m\u001b[1;33m,\u001b[0m\u001b[1;33m\u001b[0m\u001b[1;33m\u001b[0m\u001b[0m\n",
      "\u001b[1;32m~\\anaconda3\\lib\\site-packages\\dropbox\\dropbox_client.py\u001b[0m in \u001b[0;36mrequest_json_string_with_retry\u001b[1;34m(self, host, route_name, route_style, request_json_arg, auth_type, request_binary, timeout)\u001b[0m\n\u001b[0;32m    474\u001b[0m             \u001b[0mself\u001b[0m\u001b[1;33m.\u001b[0m\u001b[0m_logger\u001b[0m\u001b[1;33m.\u001b[0m\u001b[0minfo\u001b[0m\u001b[1;33m(\u001b[0m\u001b[1;34m'Request to %s'\u001b[0m\u001b[1;33m,\u001b[0m \u001b[0mroute_name\u001b[0m\u001b[1;33m)\u001b[0m\u001b[1;33m\u001b[0m\u001b[1;33m\u001b[0m\u001b[0m\n\u001b[0;32m    475\u001b[0m             \u001b[1;32mtry\u001b[0m\u001b[1;33m:\u001b[0m\u001b[1;33m\u001b[0m\u001b[1;33m\u001b[0m\u001b[0m\n\u001b[1;32m--> 476\u001b[1;33m                 return self.request_json_string(host,\n\u001b[0m\u001b[0;32m    477\u001b[0m                                                 \u001b[0mroute_name\u001b[0m\u001b[1;33m,\u001b[0m\u001b[1;33m\u001b[0m\u001b[1;33m\u001b[0m\u001b[0m\n\u001b[0;32m    478\u001b[0m                                                 \u001b[0mroute_style\u001b[0m\u001b[1;33m,\u001b[0m\u001b[1;33m\u001b[0m\u001b[1;33m\u001b[0m\u001b[0m\n",
      "\u001b[1;32m~\\anaconda3\\lib\\site-packages\\dropbox\\dropbox_client.py\u001b[0m in \u001b[0;36mrequest_json_string\u001b[1;34m(self, host, func_name, route_style, request_json_arg, auth_type, request_binary, timeout)\u001b[0m\n\u001b[0;32m    536\u001b[0m             \u001b[1;31m# behavior when a non-rewindable stream is read from, but the\u001b[0m\u001b[1;33m\u001b[0m\u001b[1;33m\u001b[0m\u001b[1;33m\u001b[0m\u001b[0m\n\u001b[0;32m    537\u001b[0m             \u001b[1;31m# request fails and needs to be re-tried at a later time.\u001b[0m\u001b[1;33m\u001b[0m\u001b[1;33m\u001b[0m\u001b[1;33m\u001b[0m\u001b[0m\n\u001b[1;32m--> 538\u001b[1;33m             raise TypeError('expected request_binary as binary type, got %s' %\n\u001b[0m\u001b[0;32m    539\u001b[0m                             type(request_binary))\n\u001b[0;32m    540\u001b[0m \u001b[1;33m\u001b[0m\u001b[0m\n",
      "\u001b[1;31mTypeError\u001b[0m: expected request_binary as binary type, got <class 'str'>"
     ]
    }
   ],
   "source": [
    "try:\n",
    "            #dbx.files_upload(f.read(), BACKUPPATH, mode=WriteMode('overwrite'))\n",
    "    dbx.files_upload(\"Potential headline: Game 5 a nail-biter as Warriors inch out Cavs\", '/test.txt',mode=WriteMode('overwrite'))\n",
    "except ApiError as err:\n",
    "            # This checks for the specific error where a user doesn't have\n",
    "            # enough Dropbox space quota to upload this file\n",
    "            if (err.error.is_path() and\n",
    "                    err.error.get_path().reason.is_insufficient_space()):\n",
    "                sys.exit(\"ERROR: Cannot back up; insufficient space.\")\n",
    "            elif err.user_message_text:\n",
    "                print(err.user_message_text)\n",
    "                sys.exit()\n",
    "            else:\n",
    "                print(err)\n",
    "                sys.exit()\n"
   ]
  },
  {
   "cell_type": "code",
   "execution_count": 38,
   "metadata": {},
   "outputs": [
    {
     "name": "stdout",
     "output_type": "stream",
     "text": [
      "Creating a Dropbox object...\n",
      "Uploading my-file.txt to Dropbox as /my-file-backup.txt...\n",
      "Done!\n"
     ]
    }
   ],
   "source": [
    "\"\"\"\n",
    "Backs up and restores a settings file to Dropbox.\n",
    "This is an example app for API v2.\n",
    "\"\"\"\n",
    "\n",
    "import sys\n",
    "import dropbox\n",
    "from dropbox.files import WriteMode\n",
    "from dropbox.exceptions import ApiError, AuthError\n",
    "\n",
    "# Add OAuth2 access token here.\n",
    "# You can generate one for yourself in the App Console.\n",
    "# See <https://blogs.dropbox.com/developers/2014/05/generate-an-access-token-for-your-own-account/>\n",
    "TOKEN = 'xyjByVAd_aMAAAAAAAAAAcU1mKvD1T_Y4iUFhGABCaJkqZdV9o_sQPhgZIIDdRLC'\n",
    "\n",
    "LOCALFILE = 'my-file.txt'\n",
    "BACKUPPATH = '/my-file-backup.txt'\n",
    "\n",
    "# Uploads contents of LOCALFILE to Dropbox\n",
    "def backup():\n",
    "    with open(LOCALFILE, 'rb') as f:\n",
    "        # We use WriteMode=overwrite to make sure that the settings in the file\n",
    "        # are changed on upload\n",
    "        print(\"Uploading \" + LOCALFILE + \" to Dropbox as \" + BACKUPPATH + \"...\")\n",
    "        try:\n",
    "            dbx.files_upload(f.read(), BACKUPPATH, mode=WriteMode('overwrite'))\n",
    "        except ApiError as err:\n",
    "            # This checks for the specific error where a user doesn't have\n",
    "            # enough Dropbox space quota to upload this file\n",
    "            if (err.error.is_path() and\n",
    "                    err.error.get_path().reason.is_insufficient_space()):\n",
    "                sys.exit(\"ERROR: Cannot back up; insufficient space.\")\n",
    "            elif err.user_message_text:\n",
    "                print(err.user_message_text)\n",
    "                sys.exit()\n",
    "            else:\n",
    "                print(err)\n",
    "                sys.exit()\n",
    "\n",
    "# Change the text string in LOCALFILE to be new_content\n",
    "# @param new_content is a string\n",
    "def change_local_file(new_content):\n",
    "    print(\"Changing contents of \" + LOCALFILE + \" on local machine...\")\n",
    "    with open(LOCALFILE, 'wb') as f:\n",
    "        f.write(new_content)\n",
    "\n",
    "# Restore the local and Dropbox files to a certain revision\n",
    "def restore(rev=None):\n",
    "    # Restore the file on Dropbox to a certain revision\n",
    "    print(\"Restoring \" + BACKUPPATH + \" to revision \" + rev + \" on Dropbox...\")\n",
    "    dbx.files_restore(BACKUPPATH, rev)\n",
    "\n",
    "    # Download the specific revision of the file at BACKUPPATH to LOCALFILE\n",
    "    print(\"Downloading current \" + BACKUPPATH + \" from Dropbox, overwriting \" + LOCALFILE + \"...\")\n",
    "    dbx.files_download_to_file(LOCALFILE, BACKUPPATH, rev)\n",
    "\n",
    "# Look at all of the available revisions on Dropbox, and return the oldest one\n",
    "def select_revision():\n",
    "    # Get the revisions for a file (and sort by the datetime object, \"server_modified\")\n",
    "    print(\"Finding available revisions on Dropbox...\")\n",
    "    entries = dbx.files_list_revisions(BACKUPPATH, limit=30).entries\n",
    "    revisions = sorted(entries, key=lambda entry: entry.server_modified)\n",
    "\n",
    "    for revision in revisions:\n",
    "        print(revision.rev, revision.server_modified)\n",
    "\n",
    "    # Return the oldest revision (first entry, because revisions was sorted oldest:newest)\n",
    "    return revisions[0].rev\n",
    "\n",
    "if __name__ == '__main__':\n",
    "    # Check for an access token\n",
    "    if (len(TOKEN) == 0):\n",
    "        sys.exit(\"ERROR: Looks like you didn't add your access token. \"\n",
    "            \"Open up backup-and-restore-example.py in a text editor and \"\n",
    "            \"paste in your token in line 14.\")\n",
    "\n",
    "    # Create an instance of a Dropbox class, which can make requests to the API.\n",
    "    print(\"Creating a Dropbox object...\")\n",
    "    with dropbox.Dropbox(TOKEN) as dbx:\n",
    "\n",
    "        # Check that the access token is valid\n",
    "        try:\n",
    "            dbx.users_get_current_account()\n",
    "        except AuthError:\n",
    "            sys.exit(\"ERROR: Invalid access token; try re-generating an \"\n",
    "                \"access token from the app console on the web.\")\n",
    "\n",
    "        # Create a backup of the current settings file\n",
    "        backup()\n",
    "\n",
    "        # Change the user's file, create another backup\n",
    "        #change_local_file(b\"updated\")\n",
    "        #backup()\n",
    "\n",
    "        # Restore the local and Dropbox files to a certain revision\n",
    "        #to_rev = select_revision()\n",
    "        #restore(to_rev)\n",
    "\n",
    "        print(\"Done!\")\n"
   ]
  },
  {
   "cell_type": "code",
   "execution_count": 36,
   "metadata": {},
   "outputs": [
    {
     "name": "stdout",
     "output_type": "stream",
     "text": [
      " Volume in drive C has no label.\n",
      " Volume Serial Number is 5202-CA32\n",
      "\n",
      " Directory of C:\\Users\\UserTZMK\n",
      "\n",
      "04/19/2021  06:10 PM    <DIR>          .\n",
      "04/19/2021  06:10 PM    <DIR>          ..\n",
      "04/16/2021  03:59 PM    <DIR>          .conda\n",
      "04/16/2021  03:36 PM                43 .condarc\n",
      "04/06/2021  01:30 PM    <DIR>          .idlerc\n",
      "04/16/2021  04:01 PM    <DIR>          .ipynb_checkpoints\n",
      "04/16/2021  04:01 PM    <DIR>          .ipython\n",
      "04/19/2021  05:04 PM    <DIR>          .jupyter\n",
      "02/26/2021  11:59 AM    <DIR>          .swt\n",
      "04/16/2021  09:29 AM    <DIR>          3D Objects\n",
      "04/16/2021  02:26 PM    <DIR>          anaconda3\n",
      "04/16/2021  09:29 AM    <DIR>          Contacts\n",
      "04/16/2021  09:29 AM    <DIR>          Desktop\n",
      "04/16/2021  02:26 PM    <DIR>          Documents\n",
      "04/19/2021  04:32 PM    <DIR>          Downloads\n",
      "04/16/2021  09:29 AM    <DIR>          Favorites\n",
      "04/16/2021  09:29 AM    <DIR>          Links\n",
      "04/16/2021  09:29 AM    <DIR>          Music\n",
      "04/16/2021  09:29 AM    <DIR>          Pictures\n",
      "04/16/2021  09:29 AM    <DIR>          Saved Games\n",
      "04/16/2021  04:12 PM         3,932,214 screen.bmp\n",
      "04/16/2021  09:29 AM    <DIR>          Searches\n",
      "04/19/2021  06:10 PM            14,703 Untitled.ipynb\n",
      "04/16/2021  09:29 AM    <DIR>          Videos\n",
      "03/23/2021  01:59 PM    <DIR>          vimfiles\n",
      "03/30/2021  05:43 PM             2,108 _viminfo\n",
      "               4 File(s)      3,949,068 bytes\n",
      "              22 Dir(s)  64,133,799,936 bytes free\n"
     ]
    }
   ],
   "source": [
    "!dir"
   ]
  },
  {
   "cell_type": "code",
   "execution_count": null,
   "metadata": {},
   "outputs": [],
   "source": []
  }
 ],
 "metadata": {
  "kernelspec": {
   "display_name": "Python 3",
   "language": "python",
   "name": "python3"
  },
  "language_info": {
   "codemirror_mode": {
    "name": "ipython",
    "version": 3
   },
   "file_extension": ".py",
   "mimetype": "text/x-python",
   "name": "python",
   "nbconvert_exporter": "python",
   "pygments_lexer": "ipython3",
   "version": "3.8.5"
  }
 },
 "nbformat": 4,
 "nbformat_minor": 4
}
