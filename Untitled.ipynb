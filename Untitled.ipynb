{
 "cells": [
  {
   "cell_type": "code",
   "execution_count": 2,
   "metadata": {},
   "outputs": [
    {
     "name": "stdout",
     "output_type": "stream",
     "text": [
      "Collecting dropbox\n",
      "  Downloading dropbox-11.7.0-py3-none-any.whl (563 kB)\n",
      "Requirement already satisfied: six>=1.12.0 in c:\\users\\usertzmk\\anaconda3\\lib\\site-packages (from dropbox) (1.15.0)\n",
      "Requirement already satisfied: requests>=2.16.2 in c:\\users\\usertzmk\\anaconda3\\lib\\site-packages (from dropbox) (2.24.0)\n",
      "Collecting stone>=2.*\n",
      "  Downloading stone-3.2.1-py3-none-any.whl (160 kB)\n",
      "Requirement already satisfied: certifi>=2017.4.17 in c:\\users\\usertzmk\\anaconda3\\lib\\site-packages (from requests>=2.16.2->dropbox) (2020.6.20)\n",
      "Requirement already satisfied: idna<3,>=2.5 in c:\\users\\usertzmk\\anaconda3\\lib\\site-packages (from requests>=2.16.2->dropbox) (2.10)\n",
      "Requirement already satisfied: chardet<4,>=3.0.2 in c:\\users\\usertzmk\\anaconda3\\lib\\site-packages (from requests>=2.16.2->dropbox) (3.0.4)\n",
      "Requirement already satisfied: urllib3!=1.25.0,!=1.25.1,<1.26,>=1.21.1 in c:\\users\\usertzmk\\anaconda3\\lib\\site-packages (from requests>=2.16.2->dropbox) (1.25.11)\n",
      "Requirement already satisfied: ply>=3.4 in c:\\users\\usertzmk\\anaconda3\\lib\\site-packages (from stone>=2.*->dropbox) (3.11)\n",
      "Installing collected packages: stone, dropbox\n",
      "Successfully installed dropbox-11.7.0 stone-3.2.1\n",
      "Note: you may need to restart the kernel to use updated packages.\n"
     ]
    }
   ],
   "source": [
    "pip install dropbox"
   ]
  },
  {
   "cell_type": "code",
   "execution_count": 2,
   "metadata": {},
   "outputs": [],
   "source": [
    "import dropbox"
   ]
  },
  {
   "cell_type": "code",
   "execution_count": 1,
   "metadata": {},
   "outputs": [],
   "source": [
    "from PIL import ImageGrab"
   ]
  },
  {
   "cell_type": "code",
   "execution_count": 88,
   "metadata": {},
   "outputs": [],
   "source": [
    " img = ImageGrab.grab()"
   ]
  },
  {
   "cell_type": "code",
   "execution_count": 24,
   "metadata": {},
   "outputs": [],
   "source": [
    "img.save(\"screen.bmp\", \"BMP\")"
   ]
  },
  {
   "cell_type": "code",
   "execution_count": 89,
   "metadata": {},
   "outputs": [],
   "source": [
    "ACCESS_TOKEN = 'xyjByVAd_aMAAAAAAAAAAcU1mKvD1T_Y4iUFhGABCaJkqZdV9o_sQPhgZIIDdRLC'"
   ]
  },
  {
   "cell_type": "code",
   "execution_count": 90,
   "metadata": {},
   "outputs": [],
   "source": [
    "dbx = dropbox.Dropbox(ACCESS_TOKEN)"
   ]
  },
  {
   "cell_type": "code",
   "execution_count": 91,
   "metadata": {},
   "outputs": [
    {
     "data": {
      "text/plain": [
       "FullAccount(account_id='dbid:AAD7qwUGFyEIdpBIMrjlwGXmaPe7b7xeYLs', account_type=AccountType('basic', None), country='UA', disabled=False, email='kmys@i.ua', email_verified=True, is_paired=False, locale='ru', name=Name(abbreviated_name='КМ', display_name='Кирилл Мыскин', familiar_name='Кирилл', given_name='Кирилл', surname='Мыскин'), profile_photo_url=NOT_SET, referral_link='https://www.dropbox.com/referrals/AABNPvUkl8hU_N-qAw-bLZbZKCJRHsSFA3U?src=app9-1643153', root_info=UserRootInfo(home_namespace_id='3789225456', root_namespace_id='3789225456'), team=NOT_SET, team_member_id=NOT_SET)"
      ]
     },
     "execution_count": 91,
     "metadata": {},
     "output_type": "execute_result"
    }
   ],
   "source": [
    "dbx.users_get_current_account()"
   ]
  },
  {
   "cell_type": "code",
   "execution_count": 14,
   "metadata": {},
   "outputs": [],
   "source": [
    "for entry in dbx.files_list_folder('').entries:\n",
    "    print(entry.name)\n"
   ]
  },
  {
   "cell_type": "code",
   "execution_count": 120,
   "metadata": {},
   "outputs": [
    {
     "data": {
      "text/plain": [
       "FileMetadata(client_modified=datetime.datetime(2021, 4, 20, 16, 7, 36), content_hash='ecdb4b6dd8d0bfdcd6c3696749ab87d67789077d7b31355db21f45d2952148fc', export_info=NOT_SET, file_lock_info=NOT_SET, has_explicit_shared_members=NOT_SET, id='id:kYsDzWeuViAAAAAAAAAANw', is_downloadable=True, media_info=NOT_SET, name='test.png', parent_shared_folder_id=NOT_SET, path_display='/test.png', path_lower='/test.png', property_groups=NOT_SET, rev='5c069a50eceb9670fa691', server_modified=datetime.datetime(2021, 4, 20, 16, 7, 36), sharing_info=NOT_SET, size=127890, symlink_info=NOT_SET)"
      ]
     },
     "execution_count": 120,
     "metadata": {},
     "output_type": "execute_result"
    }
   ],
   "source": [
    "#try:\n",
    "            #dbx.files_upload(f.read(), BACKUPPATH, mode=WriteMode('overwrite'))\n",
    "byte_io = io.BytesIO()\n",
    "img.save(byte_io, 'PNG')\n",
    "dbx.files_upload(byte_io.getvalue(), '/test.png',mode=dropbox.files.WriteMode('overwrite'))\n",
    "#except ApiError as err:\n",
    "            # This checks for the specific error where a user doesn't have\n",
    "            # enough Dropbox space quota to upload this file\n",
    " #           if (err.error.is_path() and\n",
    " #                   err.error.get_path().reason.is_insufficient_space()):\n",
    " #               sys.exit(\"ERROR: Cannot back up; insufficient space.\")\n",
    " #           elif err.user_message_text:\n",
    " #               print(err.user_message_text)\n",
    " #               sys.exit()\n",
    " #           else:\n",
    " #               print(err)\n",
    " #               sys.exit()\n"
   ]
  },
  {
   "cell_type": "code",
   "execution_count": 38,
   "metadata": {},
   "outputs": [
    {
     "name": "stdout",
     "output_type": "stream",
     "text": [
      "Creating a Dropbox object...\n",
      "Uploading my-file.txt to Dropbox as /my-file-backup.txt...\n",
      "Done!\n"
     ]
    }
   ],
   "source": [
    "\"\"\"\n",
    "Backs up and restores a settings file to Dropbox.\n",
    "This is an example app for API v2.\n",
    "\"\"\"\n",
    "\n",
    "import sys\n",
    "import dropbox\n",
    "from dropbox.files import WriteMode\n",
    "from dropbox.exceptions import ApiError, AuthError\n",
    "\n",
    "# Add OAuth2 access token here.\n",
    "# You can generate one for yourself in the App Console.\n",
    "# See <https://blogs.dropbox.com/developers/2014/05/generate-an-access-token-for-your-own-account/>\n",
    "TOKEN = 'xyjByVAd_aMAAAAAAAAAAcU1mKvD1T_Y4iUFhGABCaJkqZdV9o_sQPhgZIIDdRLC'\n",
    "\n",
    "LOCALFILE = 'my-file.txt'\n",
    "BACKUPPATH = '/my-file-backup.txt'\n",
    "\n",
    "# Uploads contents of LOCALFILE to Dropbox\n",
    "def backup():\n",
    "    with open(LOCALFILE, 'rb') as f:\n",
    "        # We use WriteMode=overwrite to make sure that the settings in the file\n",
    "        # are changed on upload\n",
    "        print(\"Uploading \" + LOCALFILE + \" to Dropbox as \" + BACKUPPATH + \"...\")\n",
    "        try:\n",
    "            dbx.files_upload(f.read(), BACKUPPATH, mode=WriteMode('overwrite'))\n",
    "        except ApiError as err:\n",
    "            # This checks for the specific error where a user doesn't have\n",
    "            # enough Dropbox space quota to upload this file\n",
    "            if (err.error.is_path() and\n",
    "                    err.error.get_path().reason.is_insufficient_space()):\n",
    "                sys.exit(\"ERROR: Cannot back up; insufficient space.\")\n",
    "            elif err.user_message_text:\n",
    "                print(err.user_message_text)\n",
    "                sys.exit()\n",
    "            else:\n",
    "                print(err)\n",
    "                sys.exit()\n",
    "\n",
    "# Change the text string in LOCALFILE to be new_content\n",
    "# @param new_content is a string\n",
    "def change_local_file(new_content):\n",
    "    print(\"Changing contents of \" + LOCALFILE + \" on local machine...\")\n",
    "    with open(LOCALFILE, 'wb') as f:\n",
    "        f.write(new_content)\n",
    "\n",
    "# Restore the local and Dropbox files to a certain revision\n",
    "def restore(rev=None):\n",
    "    # Restore the file on Dropbox to a certain revision\n",
    "    print(\"Restoring \" + BACKUPPATH + \" to revision \" + rev + \" on Dropbox...\")\n",
    "    dbx.files_restore(BACKUPPATH, rev)\n",
    "\n",
    "    # Download the specific revision of the file at BACKUPPATH to LOCALFILE\n",
    "    print(\"Downloading current \" + BACKUPPATH + \" from Dropbox, overwriting \" + LOCALFILE + \"...\")\n",
    "    dbx.files_download_to_file(LOCALFILE, BACKUPPATH, rev)\n",
    "\n",
    "# Look at all of the available revisions on Dropbox, and return the oldest one\n",
    "def select_revision():\n",
    "    # Get the revisions for a file (and sort by the datetime object, \"server_modified\")\n",
    "    print(\"Finding available revisions on Dropbox...\")\n",
    "    entries = dbx.files_list_revisions(BACKUPPATH, limit=30).entries\n",
    "    revisions = sorted(entries, key=lambda entry: entry.server_modified)\n",
    "\n",
    "    for revision in revisions:\n",
    "        print(revision.rev, revision.server_modified)\n",
    "\n",
    "    # Return the oldest revision (first entry, because revisions was sorted oldest:newest)\n",
    "    return revisions[0].rev\n",
    "\n",
    "if __name__ == '__main__':\n",
    "    # Check for an access token\n",
    "    if (len(TOKEN) == 0):\n",
    "        sys.exit(\"ERROR: Looks like you didn't add your access token. \"\n",
    "            \"Open up backup-and-restore-example.py in a text editor and \"\n",
    "            \"paste in your token in line 14.\")\n",
    "\n",
    "    # Create an instance of a Dropbox class, which can make requests to the API.\n",
    "    print(\"Creating a Dropbox object...\")\n",
    "    with dropbox.Dropbox(TOKEN) as dbx:\n",
    "\n",
    "        # Check that the access token is valid\n",
    "        try:\n",
    "            dbx.users_get_current_account()\n",
    "        except AuthError:\n",
    "            sys.exit(\"ERROR: Invalid access token; try re-generating an \"\n",
    "                \"access token from the app console on the web.\")\n",
    "\n",
    "        # Create a backup of the current settings file\n",
    "        backup()\n",
    "\n",
    "        # Change the user's file, create another backup\n",
    "        #change_local_file(b\"updated\")\n",
    "        #backup()\n",
    "\n",
    "        # Restore the local and Dropbox files to a certain revision\n",
    "        #to_rev = select_revision()\n",
    "        #restore(to_rev)\n",
    "\n",
    "        print(\"Done!\")\n"
   ]
  },
  {
   "cell_type": "code",
   "execution_count": 40,
   "metadata": {},
   "outputs": [],
   "source": [
    "l=[]\n",
    "l.append(ImageGrab.grab())\n"
   ]
  },
  {
   "cell_type": "code",
   "execution_count": 47,
   "metadata": {},
   "outputs": [
    {
     "data": {
      "text/plain": [
       "1"
      ]
     },
     "execution_count": 47,
     "metadata": {},
     "output_type": "execute_result"
    }
   ],
   "source": [
    "len(l)"
   ]
  },
  {
   "cell_type": "code",
   "execution_count": 66,
   "metadata": {},
   "outputs": [],
   "source": [
    "f = open(\"screen.bmp\", 'rb')"
   ]
  },
  {
   "cell_type": "code",
   "execution_count": 86,
   "metadata": {},
   "outputs": [
    {
     "data": {
      "text/plain": [
       "b''"
      ]
     },
     "execution_count": 86,
     "metadata": {},
     "output_type": "execute_result"
    }
   ],
   "source": [
    "byte_io.read()"
   ]
  },
  {
   "cell_type": "code",
   "execution_count": 70,
   "metadata": {},
   "outputs": [],
   "source": [
    "import io"
   ]
  },
  {
   "cell_type": "code",
   "execution_count": 114,
   "metadata": {},
   "outputs": [],
   "source": [
    "#from io import BytesIO\n",
    "from PIL import Image, ImageDraw\n",
    "\n",
    "image = Image.new(\"RGB\", (300, 50))\n",
    "draw = ImageDraw.Draw(image)\n",
    "draw.text((0, 0), \"This text is drawn on image\")\n",
    "\n",
    "byte_io = io.BytesIO()\n",
    "\n",
    "image.save(byte_io, 'png')"
   ]
  },
  {
   "cell_type": "code",
   "execution_count": 115,
   "metadata": {},
   "outputs": [
    {
     "data": {
      "text/plain": [
       "538"
      ]
     },
     "execution_count": 115,
     "metadata": {},
     "output_type": "execute_result"
    }
   ],
   "source": [
    "byte_io.__sizeof__()"
   ]
  },
  {
   "cell_type": "code",
   "execution_count": null,
   "metadata": {},
   "outputs": [],
   "source": []
  }
 ],
 "metadata": {
  "kernelspec": {
   "display_name": "Python 3",
   "language": "python",
   "name": "python3"
  },
  "language_info": {
   "codemirror_mode": {
    "name": "ipython",
    "version": 3
   },
   "file_extension": ".py",
   "mimetype": "text/x-python",
   "name": "python",
   "nbconvert_exporter": "python",
   "pygments_lexer": "ipython3",
   "version": "3.8.5"
  }
 },
 "nbformat": 4,
 "nbformat_minor": 4
}
